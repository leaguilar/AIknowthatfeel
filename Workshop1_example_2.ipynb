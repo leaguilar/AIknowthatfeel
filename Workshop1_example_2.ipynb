{
 "cells": [
  {
   "cell_type": "markdown",
   "metadata": {
    "colab_type": "text",
    "id": "view-in-github"
   },
   "source": [
    "<a href=\"https://colab.research.google.com/github/leaguilar/AIknowthatfeel/blob/master/Workshop1_example_2.ipynb\" target=\"_parent\"><img src=\"https://colab.research.google.com/assets/colab-badge.svg\" alt=\"Open In Colab\"/></a>"
   ]
  },
  {
   "cell_type": "markdown",
   "metadata": {
    "colab_type": "text",
    "id": "KEX_hNbmIMEW"
   },
   "source": [
    "### Collab"
   ]
  },
  {
   "cell_type": "markdown",
   "metadata": {
    "colab_type": "text",
    "id": "Mxy3EY51IMEb"
   },
   "source": [
    "#### git clone"
   ]
  },
  {
   "cell_type": "code",
   "execution_count": 1,
   "metadata": {
    "colab": {},
    "colab_type": "code",
    "id": "M6zlFSauIMEc"
   },
   "outputs": [],
   "source": [
    "#!git clone https://github.com/<your name>/<your project>.git\n",
    "#!git clone https://github.com/leaguilar/AIknowthatfeel/ colab\n",
    "#pip install -r requirements.txt\n",
    "#import sys\n",
    "#sys.path.append('colab')"
   ]
  },
  {
   "cell_type": "markdown",
   "metadata": {
    "colab_type": "text",
    "id": "PR4Q6DYmIMEh"
   },
   "source": [
    "### Import libraries\n",
    "\n"
   ]
  },
  {
   "cell_type": "code",
   "execution_count": 2,
   "metadata": {
    "colab": {},
    "colab_type": "code",
    "id": "1US3YfixIMEi"
   },
   "outputs": [],
   "source": [
    "import numpy as np\n",
    "import os\n",
    "import shutil\n",
    "import datetime"
   ]
  },
  {
   "cell_type": "code",
   "execution_count": 3,
   "metadata": {
    "colab": {},
    "colab_type": "code",
    "id": "ENJlrHsuIMEm"
   },
   "outputs": [],
   "source": [
    "from tensorflow.keras.models import Sequential\n",
    "from tensorflow.keras.preprocessing import sequence\n",
    "from tensorflow.keras.layers import Embedding, LSTM, Dense\n",
    "from tensorflow.keras.callbacks import TensorBoard\n",
    "from tensorflow.keras.preprocessing.text import one_hot\n",
    "import pandas as pd\n",
    "import pickle"
   ]
  },
  {
   "cell_type": "code",
   "execution_count": 4,
   "metadata": {
    "colab": {},
    "colab_type": "code",
    "id": "ydp1jtaBIMEq"
   },
   "outputs": [],
   "source": [
    "from libs.workshop_libs.tensorboard import TrainValTensorBoard"
   ]
  },
  {
   "cell_type": "markdown",
   "metadata": {
    "colab_type": "text",
    "id": "zo2AFRq2IMEv"
   },
   "source": [
    "## Import dataset"
   ]
  },
  {
   "cell_type": "code",
   "execution_count": 5,
   "metadata": {
    "colab": {},
    "colab_type": "code",
    "id": "3YxwzTLcIMEw"
   },
   "outputs": [],
   "source": [
    "#Ugly Example preprocessing\n",
    "pad_char=0\n",
    "start_char=1\n",
    "oov_char=2\n",
    "index_from=3\n",
    "\n",
    "with open('models/wordDictionary.pkl', 'rb') as handle:\n",
    "    wordDict = pickle.load(handle)\n",
    "\n",
    "def encodeList(text_list,vocab_size):\n",
    "    encoded=[start_char]\n",
    "    for w in text_list:\n",
    "        val=wordDict.get(w,oov_char-index_from)+index_from\n",
    "        if val>=vocab_size:\n",
    "            val=vocab_size-1\n",
    "        encoded.append(val)\n",
    "    #print(encoded)\n",
    "    return encoded\n",
    "       \n",
    "def encodeData(data,vocab_size = 5000):\n",
    "    data_out=[]\n",
    "    for index, row in data.iterrows():\n",
    "        text=(row.iloc[0]+' ### '+row.iloc[1]+' ### '+row.iloc[2])\n",
    "        text_list=text.split()\n",
    "        encoded=encodeList(text_list,vocab_size)\n",
    "        data_out.append(encoded)\n",
    "    return np.array(data_out)\n",
    "def encodedLabels(data):\n",
    "    data_out=[]\n",
    "    for index, row in data.iterrows():\n",
    "        if row.iloc[0] == 'others':\n",
    "            data_out.append([1,0,0,0])\n",
    "        elif row.iloc[0] == 'happy':\n",
    "            data_out.append([0,1,0,0])\n",
    "        elif row.iloc[0] == 'angry':\n",
    "            data_out.append([0,0,1,0])\n",
    "        elif row.iloc[0] == 'sad':\n",
    "            data_out.append([0,0,0,1])\n",
    "        else:\n",
    "            raise Exception()\n",
    "    return np.array(data_out).astype(int)\n",
    "def prepare_data(x_data,max_conv_length):\n",
    "    x_data = sequence.pad_sequences(x_data, maxlen=max_conv_length)\n",
    "    return x_data\n",
    "def loadAndPrepareData(fname,vocab_size=5000,max_conv_length=50):\n",
    "    data = pd.read_csv(fname,sep='\t',header=None)\n",
    "    x_data_raw=data.filter([1,2,3], axis=1).copy(deep=True)\n",
    "    y_data_raw=data.filter([4], axis=1).copy(deep=True)  \n",
    "    x_data = encodeData(x_data_raw,vocab_size)\n",
    "    y_data = encodedLabels(y_data_raw)\n",
    "    x_data = prepare_data(x_data,max_conv_length)                       \n",
    "    return x_data,y_data"
   ]
  },
  {
   "cell_type": "code",
   "execution_count": 6,
   "metadata": {
    "colab": {},
    "colab_type": "code",
    "id": "Q8IfC0uaIME2"
   },
   "outputs": [],
   "source": [
    "vocab_size=5000\n",
    "max_conv_length=50"
   ]
  },
  {
   "cell_type": "code",
   "execution_count": 7,
   "metadata": {
    "colab": {},
    "colab_type": "code",
    "id": "t2iagg7dIME5"
   },
   "outputs": [],
   "source": [
    "x_train,y_train=loadAndPrepareData('data_train/train.txt',vocab_size,max_conv_length)\n",
    "x_dev,y_dev=loadAndPrepareData('data_dev/dev.txt',vocab_size,max_conv_length)"
   ]
  },
  {
   "cell_type": "code",
   "execution_count": 8,
   "metadata": {
    "colab": {},
    "colab_type": "code",
    "id": "gEWf2VMMIME_",
    "outputId": "cf6b7851-68ff-4978-bb82-1507f4fcb075"
   },
   "outputs": [
    {
     "data": {
      "text/plain": [
       "50"
      ]
     },
     "execution_count": 8,
     "metadata": {},
     "output_type": "execute_result"
    }
   ],
   "source": [
    "len(x_train[0])"
   ]
  },
  {
   "cell_type": "code",
   "execution_count": 9,
   "metadata": {
    "colab": {},
    "colab_type": "code",
    "id": "sSLlQ4KKIMFE",
    "outputId": "b653238b-0815-402e-8a93-212afcf755fd"
   },
   "outputs": [
    {
     "data": {
      "text/plain": [
       "array([  0,   0,   0,   0,   0,   0,   0,   0,   0,   0,   0,   0,   0,\n",
       "         0,   0,   0,   0,   0,   0,   0,   0,   0,   0,   0,   0,   0,\n",
       "         0,   0,   1,  91,  18, 625,   5,  33, 186,   3, 781,  62,  16,\n",
       "         5], dtype=int32)"
      ]
     },
     "execution_count": 9,
     "metadata": {},
     "output_type": "execute_result"
    }
   ],
   "source": [
    "x_train[0][:40]"
   ]
  },
  {
   "cell_type": "code",
   "execution_count": 10,
   "metadata": {
    "colab": {},
    "colab_type": "code",
    "id": "lPr9Cbv8IMFK",
    "outputId": "b6e397d1-fcd6-4a3f-94ea-d7c974395712"
   },
   "outputs": [
    {
     "data": {
      "text/plain": [
       "30160"
      ]
     },
     "execution_count": 10,
     "metadata": {},
     "output_type": "execute_result"
    }
   ],
   "source": [
    "len(x_train)"
   ]
  },
  {
   "cell_type": "code",
   "execution_count": 11,
   "metadata": {
    "colab": {},
    "colab_type": "code",
    "id": "gGEn9gVmIMFO",
    "outputId": "220fcd6c-e212-4c3d-9106-519bfe240a9e"
   },
   "outputs": [],
   "source": [
    "#remove\n",
    "#max_data=10000\n",
    "max_data=len(x_train)\n",
    "x_train=x_train[0:max_data]\n",
    "y_train=y_train[0:max_data]\n",
    "x_dev=x_dev[0:max_data]\n",
    "y_dev=y_dev[0:max_data]"
   ]
  },
  {
   "cell_type": "markdown",
   "metadata": {
    "colab_type": "text",
    "id": "Ty5m2SoYIMFR"
   },
   "source": [
    "### Check the dataset"
   ]
  },
  {
   "cell_type": "code",
   "execution_count": 12,
   "metadata": {
    "colab": {},
    "colab_type": "code",
    "id": "Lb1KOXAaIMFS"
   },
   "outputs": [],
   "source": [
    "## Load tensorboard"
   ]
  },
  {
   "cell_type": "code",
   "execution_count": 13,
   "metadata": {
    "colab": {},
    "colab_type": "code",
    "id": "rihCUl1fIMFW"
   },
   "outputs": [
    {
     "name": "stdout",
     "output_type": "stream",
     "text": [
      "The tensorboard module is not an IPython extension.\n"
     ]
    }
   ],
   "source": [
    "%load_ext tensorboard\n",
    "#%reload_ext tensorboard"
   ]
  },
  {
   "cell_type": "code",
   "execution_count": 14,
   "metadata": {
    "colab": {},
    "colab_type": "code",
    "id": "awNEyOJOIMFZ"
   },
   "outputs": [],
   "source": [
    "#!kill 4430"
   ]
  },
  {
   "cell_type": "code",
   "execution_count": 15,
   "metadata": {
    "colab": {},
    "colab_type": "code",
    "id": "kmNbx2EzIMFe"
   },
   "outputs": [],
   "source": [
    "#!ps aux | grep -i tb\n",
    "logs_base_dir = \"./logs\"\n",
    "os.makedirs(logs_base_dir, exist_ok=True)"
   ]
  },
  {
   "cell_type": "code",
   "execution_count": 16,
   "metadata": {
    "colab": {},
    "colab_type": "code",
    "id": "YC9_8KaTIMFi"
   },
   "outputs": [
    {
     "name": "stdout",
     "output_type": "stream",
     "text": [
      "None\n"
     ]
    }
   ],
   "source": [
    "print(shutil.rmtree(logs_base_dir))"
   ]
  },
  {
   "cell_type": "code",
   "execution_count": 17,
   "metadata": {
    "colab": {},
    "colab_type": "code",
    "id": "OabNlM0jIMFl",
    "scrolled": false
   },
   "outputs": [
    {
     "name": "stderr",
     "output_type": "stream",
     "text": [
      "UsageError: Line magic function `%tensorboard` not found.\n"
     ]
    }
   ],
   "source": [
    "os.makedirs(logs_base_dir, exist_ok=True)\n",
    "%tensorboard --logdir {logs_base_dir}"
   ]
  },
  {
   "cell_type": "code",
   "execution_count": 18,
   "metadata": {
    "colab": {},
    "colab_type": "code",
    "id": "JjtasOl0IMFo"
   },
   "outputs": [],
   "source": [
    "### Clean dato, truncate and padding"
   ]
  },
  {
   "cell_type": "code",
   "execution_count": null,
   "metadata": {
    "colab": {},
    "colab_type": "code",
    "id": "9tUMFEsvIMFq"
   },
   "outputs": [],
   "source": []
  },
  {
   "cell_type": "code",
   "execution_count": 19,
   "metadata": {
    "colab": {},
    "colab_type": "code",
    "id": "p-aaD2oRIMFv"
   },
   "outputs": [],
   "source": [
    "def create_model(top_words,max_review_length):\n",
    "    embedding_vector_length = 32\n",
    "    model = Sequential()\n",
    "    model.add(Embedding(top_words, embedding_vector_length, input_length=max_review_length))\n",
    "    model.add(LSTM(100))\n",
    "    model.add(Dense(4, activation='sigmoid'))\n",
    "    print(model.summary())\n",
    "    return model"
   ]
  },
  {
   "cell_type": "code",
   "execution_count": 20,
   "metadata": {
    "colab": {},
    "colab_type": "code",
    "id": "BAYUaMx4IMF1"
   },
   "outputs": [],
   "source": [
    "def train_model(model,x_train,y_train,x_dev,y_dev):\n",
    "        logdir = os.path.join(logs_base_dir, datetime.datetime.now().strftime(\"%Y%m%d-%H%M%S\"))\n",
    "        model.compile(loss='categorical_crossentropy',\n",
    "                      optimizer='adam',\n",
    "                      metrics=['accuracy']\n",
    "                     )\n",
    "        model.fit(x_train,\n",
    "                  y_train,\n",
    "                  batch_size=64, #64,\n",
    "                  validation_data=(x_dev, y_dev),\n",
    "                  nb_epoch=10,\n",
    "                  callbacks=[TrainValTensorBoard(logdir, \n",
    "                                                 histogram_freq=1,\n",
    "                                                 write_graph=True\n",
    "                                                )]\n",
    "                 )"
   ]
  },
  {
   "cell_type": "code",
   "execution_count": 21,
   "metadata": {
    "colab": {},
    "colab_type": "code",
    "id": "mllT9vNuIMGA"
   },
   "outputs": [
    {
     "name": "stdout",
     "output_type": "stream",
     "text": [
      "(30160, 50)\n",
      "(2755, 50)\n"
     ]
    }
   ],
   "source": [
    "print(x_train.shape)\n",
    "print(x_dev.shape)"
   ]
  },
  {
   "cell_type": "code",
   "execution_count": 22,
   "metadata": {
    "colab": {},
    "colab_type": "code",
    "id": "nwW4m_mRIMGD"
   },
   "outputs": [
    {
     "name": "stdout",
     "output_type": "stream",
     "text": [
      "_________________________________________________________________\n",
      "Layer (type)                 Output Shape              Param #   \n",
      "=================================================================\n",
      "embedding (Embedding)        (None, 50, 32)            160000    \n",
      "_________________________________________________________________\n",
      "lstm (LSTM)                  (None, 100)               53200     \n",
      "_________________________________________________________________\n",
      "dense (Dense)                (None, 4)                 404       \n",
      "=================================================================\n",
      "Total params: 213,604\n",
      "Trainable params: 213,604\n",
      "Non-trainable params: 0\n",
      "_________________________________________________________________\n",
      "None\n"
     ]
    }
   ],
   "source": [
    "model=create_model(vocab_size,max_conv_length)"
   ]
  },
  {
   "cell_type": "code",
   "execution_count": 23,
   "metadata": {
    "colab": {},
    "colab_type": "code",
    "id": "3-VU5CzVIMGG"
   },
   "outputs": [
    {
     "name": "stdout",
     "output_type": "stream",
     "text": [
      "WARNING:tensorflow:The `nb_epoch` argument in `fit` has been renamed `epochs`.\n"
     ]
    },
    {
     "name": "stderr",
     "output_type": "stream",
     "text": [
      "/home/leo/.local/lib/python3.6/site-packages/tensorflow/python/ops/gradients_impl.py:112: UserWarning: Converting sparse IndexedSlices to a dense Tensor of unknown shape. This may consume a large amount of memory.\n",
      "  \"Converting sparse IndexedSlices to a dense Tensor of unknown shape. \"\n"
     ]
    },
    {
     "name": "stdout",
     "output_type": "stream",
     "text": [
      "Train on 30160 samples, validate on 2755 samples\n",
      "Epoch 1/10\n",
      "30160/30160 [==============================] - 19s 643us/step - loss: 0.7282 - acc: 0.7200 - val_loss: 0.3906 - val_acc: 0.8552\n",
      "Epoch 2/10\n",
      "30160/30160 [==============================] - 20s 665us/step - loss: 0.3534 - acc: 0.8774 - val_loss: 0.3483 - val_acc: 0.8784\n",
      "Epoch 3/10\n",
      "30160/30160 [==============================] - 20s 679us/step - loss: 0.2955 - acc: 0.8982 - val_loss: 0.3651 - val_acc: 0.8733\n",
      "Epoch 4/10\n",
      "30160/30160 [==============================] - 21s 684us/step - loss: 0.2631 - acc: 0.9097 - val_loss: 0.4066 - val_acc: 0.8472\n",
      "Epoch 5/10\n",
      "30160/30160 [==============================] - 22s 732us/step - loss: 0.2432 - acc: 0.9181 - val_loss: 0.3686 - val_acc: 0.8708\n",
      "Epoch 6/10\n",
      "30160/30160 [==============================] - 22s 745us/step - loss: 0.2230 - acc: 0.9245 - val_loss: 0.3637 - val_acc: 0.8751\n",
      "Epoch 7/10\n",
      "30160/30160 [==============================] - 22s 734us/step - loss: 0.2070 - acc: 0.9307 - val_loss: 0.3742 - val_acc: 0.8740\n",
      "Epoch 8/10\n",
      "30160/30160 [==============================] - 22s 744us/step - loss: 0.1924 - acc: 0.9355 - val_loss: 0.4381 - val_acc: 0.8486\n",
      "Epoch 9/10\n",
      "30160/30160 [==============================] - 22s 745us/step - loss: 0.1779 - acc: 0.9411 - val_loss: 0.4454 - val_acc: 0.8523\n",
      "Epoch 10/10\n",
      "30160/30160 [==============================] - 23s 752us/step - loss: 0.1633 - acc: 0.9454 - val_loss: 0.4534 - val_acc: 0.8494\n"
     ]
    }
   ],
   "source": [
    "train_model(model,x_train,y_train,x_dev,y_dev)"
   ]
  },
  {
   "cell_type": "markdown",
   "metadata": {
    "colab_type": "text",
    "id": "ASZK92NqIMGK"
   },
   "source": [
    "### Evaluate the model"
   ]
  },
  {
   "cell_type": "code",
   "execution_count": 24,
   "metadata": {
    "colab": {},
    "colab_type": "code",
    "id": "3ep9wdVtIMGL"
   },
   "outputs": [
    {
     "name": "stdout",
     "output_type": "stream",
     "text": [
      "2755/2755 [==============================] - 1s 260us/step\n",
      "Accuracy: 84.94%\n"
     ]
    }
   ],
   "source": [
    "scores = model.evaluate(x_dev, y_dev, verbose=1)\n",
    "print(\"Accuracy: %.2f%%\" % (scores[1]*100))"
   ]
  },
  {
   "cell_type": "markdown",
   "metadata": {
    "colab_type": "text",
    "id": "Wq2ittxlIMGQ"
   },
   "source": [
    "### Save the model"
   ]
  },
  {
   "cell_type": "code",
   "execution_count": 25,
   "metadata": {
    "colab": {},
    "colab_type": "code",
    "id": "Ieks5zlzIMGS"
   },
   "outputs": [],
   "source": [
    "outpath='models/'\n",
    "os.makedirs(outpath, exist_ok=True)"
   ]
  },
  {
   "cell_type": "code",
   "execution_count": 26,
   "metadata": {
    "colab": {},
    "colab_type": "code",
    "id": "4ijZ_7ygIMGV"
   },
   "outputs": [],
   "source": [
    "model.save(outpath+\"model.h5\")"
   ]
  },
  {
   "cell_type": "code",
   "execution_count": 27,
   "metadata": {
    "colab": {},
    "colab_type": "code",
    "id": "CHBSXjx8IMGY"
   },
   "outputs": [],
   "source": [
    "# serialize model to JSON\n",
    "model_json = model.to_json()\n",
    "with open(outpath+\"model.json\", \"w\") as json_file:\n",
    "    json_file.write(model_json)"
   ]
  },
  {
   "cell_type": "code",
   "execution_count": 28,
   "metadata": {
    "colab": {},
    "colab_type": "code",
    "id": "nm6XalCaIMGb"
   },
   "outputs": [],
   "source": [
    "from tensorflow.keras import backend\n",
    "from tensorflow.keras.models import load_model"
   ]
  },
  {
   "cell_type": "code",
   "execution_count": 29,
   "metadata": {
    "colab": {},
    "colab_type": "code",
    "id": "Q7b_LF0CIMGg"
   },
   "outputs": [],
   "source": [
    "model2=load_model(\"models/model.h5\")"
   ]
  },
  {
   "cell_type": "code",
   "execution_count": 30,
   "metadata": {
    "colab": {},
    "colab_type": "code",
    "id": "laKC5erSIMGk"
   },
   "outputs": [
    {
     "name": "stdout",
     "output_type": "stream",
     "text": [
      "2755/2755 [==============================] - 1s 292us/step\n",
      "Accuracy: 84.94%\n"
     ]
    }
   ],
   "source": [
    "scores = model2.evaluate(x_dev, y_dev, verbose=1)\n",
    "print(\"Accuracy: %.2f%%\" % (scores[1]*100))"
   ]
  },
  {
   "cell_type": "code",
   "execution_count": 31,
   "metadata": {
    "colab": {},
    "colab_type": "code",
    "id": "_SKDhTyJIMGn"
   },
   "outputs": [
    {
     "name": "stdout",
     "output_type": "stream",
     "text": [
      "['loss', 'acc']\n"
     ]
    }
   ],
   "source": [
    "print(model.metrics_names)"
   ]
  },
  {
   "cell_type": "code",
   "execution_count": null,
   "metadata": {},
   "outputs": [],
   "source": []
  }
 ],
 "metadata": {
  "colab": {
   "include_colab_link": true,
   "name": "Workshop1_example_2.ipynb",
   "provenance": []
  },
  "kernelspec": {
   "display_name": "Python 3",
   "language": "python",
   "name": "python3"
  },
  "language_info": {
   "codemirror_mode": {
    "name": "ipython",
    "version": 3
   },
   "file_extension": ".py",
   "mimetype": "text/x-python",
   "name": "python",
   "nbconvert_exporter": "python",
   "pygments_lexer": "ipython3",
   "version": "3.6.9"
  }
 },
 "nbformat": 4,
 "nbformat_minor": 1
}
